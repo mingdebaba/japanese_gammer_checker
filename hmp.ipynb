{
 "cells": [
  {
   "cell_type": "code",
   "execution_count": null,
   "metadata": {},
   "outputs": [],
   "source": [
    "import torch"
   ]
  },
  {
   "cell_type": "code",
   "execution_count": null,
   "metadata": {},
   "outputs": [],
   "source": [
    "import random"
   ]
  }
 ],
 "metadata": {
  "interpreter": {
   "hash": "c251d53cbc2a3003f8a89d1a62a02c97732d9c9c5b5e81abcd7d02d3b2d91aa7"
  },
  "kernelspec": {
   "display_name": "Python 3.8.12 ('Pytorch')",
   "language": "python",
   "name": "python3"
  },
  "language_info": {
   "name": "python",
   "version": "3.8.12"
  },
  "orig_nbformat": 4
 },
 "nbformat": 4,
 "nbformat_minor": 2
}
